{
 "cells": [
  {
   "cell_type": "markdown",
   "id": "48b1c7ca-15cc-415e-9c35-fcb47f0ac382",
   "metadata": {
    "editable": true,
    "slideshow": {
     "slide_type": ""
    },
    "tags": []
   },
   "source": [
    "## Estudo de Proteção de Subestação de Medição e Proteção- Parte 2"
   ]
  },
  {
   "cell_type": "markdown",
   "id": "ff0a74ac-586a-4f85-8d9d-d6475cb4f0c7",
   "metadata": {},
   "source": [
    "### Executando a Parte 1"
   ]
  },
  {
   "cell_type": "code",
   "execution_count": 1,
   "id": "c8f90411-3916-4ad0-8db0-16a58ff13a01",
   "metadata": {},
   "outputs": [
    {
     "name": "stdout",
     "output_type": "stream",
     "text": [
      "O nível de Curto circuito é:  {'Icc3f': 1.619, 'Icc3fassim': 1.684, 'Icc2f': 1.402, 'Iccftmax': 1.169, 'Iccftmin': 183}\n",
      "O valor da Impedância da rede é:  {'Z1': (1.4507+2.1381j), 'Z0': (1.807+5.3744j)}\n",
      "O Ajuste do Religador é:  {'tipo': '351-R', 'rtc': 500, 'fase': {'pickup': 230, 'tap_inst': 895, 'curva': 'DEF_05'}, 'neutro': {'pickup': 25, 'tap_inst': 550}, 'religamentos': [5, 20, 40]}\n",
      "O valor da Potência de base é:  100000000.0\n",
      "O valor do Módulo da Impedância de base é:  1.9044\n",
      "O valor da Corrente de base é:  (4183.697602823375+0j)\n",
      "O valor da Impedância Positiva da rede é em pu:  (1.4507+2.1381j)\n",
      "O valor da Impedância Zero da rede é em pu:  (1.807+5.3744j)\n",
      "O valor da Resistência de falta é em ohm:  40\n",
      "Transfomador 1 tem Potência de  360.0 kVA e Impedância Perccentual de  0.055 e fator k de  10\n",
      "Transfomador 2 tem Potência de  225.0 kVA e Impedância Perccentual de  0.045 e fator k de  8\n",
      "Impedância positiva do cabo em pu (1.675+0.3675j)\n",
      "A Corrente Nominal no primário do Trafo 1 é:  (15.06131137016415+0j)  A\n",
      "A Corrente Nominal no primário do Trafo 2 é:  (9.413319606352594+0j)  A\n",
      "Curto trifásico na barra de média tensão é:  1044.3579989447574 A\n",
      "Curto trifásico assimétrico na barra de média tensão é:  1044.7697967110562 A\n",
      "Curto fase terra na barra de média tensão é:  954.7981293640297 A\n",
      "Curto fase terra assimétrico na barra de média tensão é:  955.1746130385318 A\n",
      "Corrente de falta terra mínimo na barra de média tensão é:  174.74498985584682 A\n",
      "Curto trifásico na barra de baixa tensão do Trafo 1 é:  228.51423675409075 A\n",
      "Curto trifásico assimétrico na barra de baixa tensão do Trafo 1 é:  268.7953084130615 A\n",
      "Curto fase terra na barra de baixa tensão do Trafo 1 é::  253.6342712015924 A\n",
      "Curto fase terra assimétrico na barra de baixa tensão do Trafo 1 é:  1123.1040188134984 A\n",
      "Corrente de falta terra mínimo na barra de baixa tensão do Trafo 1 é:  142.51724301474135 A\n",
      "Curto trifásico na barra de baixa tensão do Trafo 2 é:  182.02317101659045 A\n",
      "Curto trifásico assimétrico na barra de baixa tensão do Trafo 2 é:  221.0731907544342 A\n",
      "Curto fase terra na barra de baixa tensão do Trafo 2 é::  199.6274898953788 A\n",
      "Curto fase terra assimétrico na barra de baixa tensão do Trafo 2 é:  1159.6340609055328 A\n",
      "Corrente de falta terra mínimo na barra de baixa tensão do Trafo 2 é:  129.2510836663407 A\n",
      "Corrente de primeiro critério de curto no TC é:  52.21789994723787 A\n",
      "Corrente de segundo critério de curto no TC é:  127.32992704245056 A\n",
      "Corrente de teceiro critério de curto no TC é:  48.94926195303349 A\n",
      "TC escolhiddo é de  150 /5  A\n",
      "Corrente pickup de fase é:  58.57176643952725 A\n",
      "Corrente instatânea de fase é:  126.51501550937886 A\n",
      "Corrente pickup de neutro é:  5.857176643952726 A\n",
      "Corrente instatânea de neutro é:  25.303003101875774 A\n"
     ]
    }
   ],
   "source": [
    "run Estudo_Proteção_P1_R00.ipynb"
   ]
  },
  {
   "cell_type": "markdown",
   "id": "ce8dd864-b72e-4dbc-8c9a-1d61ca3f1572",
   "metadata": {
    "editable": true,
    "slideshow": {
     "slide_type": ""
    },
    "tags": []
   },
   "source": [
    "### Importando as variáveis da Parte 1"
   ]
  },
  {
   "cell_type": "code",
   "execution_count": 2,
   "id": "c60d2f13-1e94-40af-bed4-77807c0612b7",
   "metadata": {},
   "outputs": [],
   "source": [
    "# Dados fornecidos\n",
    "corrente_curto_trifasica = abs(I3ph)\n",
    "corrente_curto_trifasica_assimetrica = abs(I3pha)\n",
    "corrente_falta_fase_terra = abs(I1t)\n",
    "corrente_falta_fase_terra_assimetrica = abs(I1ta)\n",
    "corrente_falta_terra_minima = abs(I1tmin)\n",
    "corrente_tc = abs(Intc_int1)\n",
    "\n",
    "# Dados do relé\n",
    "pickup_fase = rele[\"fase\"][\"pickup\"]\n",
    "pickup_neutro = rele[\"neutro\"][\"pickup\"]"
   ]
  },
  {
   "cell_type": "markdown",
   "id": "bcbc341d-9916-4265-95c8-dc753e5cb69a",
   "metadata": {},
   "source": [
    "### Executando a verificação para as correntes de curto na barra média tensão da Subestação"
   ]
  },
  {
   "cell_type": "code",
   "execution_count": 3,
   "id": "25959ef2-3b08-45bc-885a-a771902c5671",
   "metadata": {
    "editable": true,
    "slideshow": {
     "slide_type": ""
    },
    "tags": []
   },
   "outputs": [],
   "source": [
    "run Verificar_Seletividade.py"
   ]
  },
  {
   "cell_type": "code",
   "execution_count": 4,
   "id": "7e4cd1c6-5c03-4356-9989-8f8a7e7ba279",
   "metadata": {
    "editable": true,
    "slideshow": {
     "slide_type": ""
    },
    "tags": []
   },
   "outputs": [
    {
     "name": "stdout",
     "output_type": "stream",
     "text": [
      "Verificações de Seletividade:\n",
      "Corrente de curto trifásica (1044.36 A) > Pick-up de fase (230 A): Relé pode atuar.\n",
      "Corrente de curto trifásica assimétrica (1044.77 A) > Pick-up de fase (230 A): Relé pode atuar.\n",
      "Corrente de falta fase-terra (954.80 A) > Pick-up neutro (25 A): Relé pode atuar.\n",
      "Corrente do TC (52.22 A) < Corrente mínima de falta terra (174.74 A): Seletividade mantida.\n"
     ]
    }
   ],
   "source": [
    "verificar_seletividade(corrente_curto_trifasica, pickup_fase, corrente_curto_trifasica_assimetrica,\n",
    "                       corrente_falta_fase_terra, pickup_neutro, corrente_tc, corrente_falta_terra_minima)"
   ]
  },
  {
   "cell_type": "markdown",
   "id": "b3cb7610-e3ca-4abc-b417-f2ebac05b1da",
   "metadata": {
    "editable": true,
    "slideshow": {
     "slide_type": ""
    },
    "tags": []
   },
   "source": [
    "### Importando os ajustes de Proteção da Concessionária"
   ]
  },
  {
   "cell_type": "code",
   "execution_count": 5,
   "id": "e4b33557-1c4f-4933-bffa-62cd91b37f51",
   "metadata": {},
   "outputs": [],
   "source": [
    "# Ajustes da concessionária (valores de exemplo)\n",
    "ajustes_concessionaria = {\n",
    "    \"pickup_fase\": rele[\"fase\"][\"pickup\"],  # 230 A\n",
    "    \"pickup_neutro\": rele[\"neutro\"][\"pickup\"],  # 25 A\n",
    "    \"tap_fase\": rele[\"fase\"][\"tap_inst\"],  # 895 A\n",
    "    \"tap_neutro\": rele[\"neutro\"][\"tap_inst\"],  # 550 A\n",
    "}"
   ]
  },
  {
   "cell_type": "markdown",
   "id": "e6fcb441-b3a8-40c3-917b-034bd7a4bac9",
   "metadata": {},
   "source": [
    "### Primeiros dados de ajustes do Cliente importados da Parte 1"
   ]
  },
  {
   "cell_type": "code",
   "execution_count": 6,
   "id": "c1921309-5597-4706-be52-a04efce748cc",
   "metadata": {
    "editable": true,
    "slideshow": {
     "slide_type": ""
    },
    "tags": []
   },
   "outputs": [],
   "source": [
    "ajustes_rele_cliente = {\n",
    "    \"pickup_fase\": abs(Ipf_inst), #58.57,  # em A\n",
    "    \"pickup_neutro\": abs(Ipn),#5.86,  # em A\n",
    "    \"tap_fase\": abs(Iif), #380,  # em A\n",
    "    \"tap_neutro\": abs(Iin)#76.14,  # em A\n",
    "}"
   ]
  },
  {
   "cell_type": "markdown",
   "id": "5e386933-327c-4f3b-8245-d971ff6999fd",
   "metadata": {},
   "source": [
    "### Executar o Ajustes de Rele"
   ]
  },
  {
   "cell_type": "code",
   "execution_count": 7,
   "id": "603d8479-ee31-4544-aac2-8112b9c2c3ef",
   "metadata": {
    "editable": true,
    "slideshow": {
     "slide_type": ""
    },
    "tags": []
   },
   "outputs": [
    {
     "name": "stdout",
     "output_type": "stream",
     "text": [
      "Ajustes do Relé da Concessionária:\n",
      "pickup_fase: 230.00 A\n",
      "pickup_neutro: 25.00 A\n",
      "tap_fase: 895.00 A\n",
      "tap_neutro: 550.00 A\n",
      "Ajustes do Relé do Cliente (ajustados para serem menores que os da concessionária):\n",
      "pickup_fase: 58.57 A\n",
      "pickup_neutro: 5.86 A\n",
      "tap_fase: 126.52 A\n",
      "tap_neutro: 25.30 A\n"
     ]
    },
    {
     "data": {
      "text/plain": [
       "{'pickup_fase': 58.57176643952725,\n",
       " 'pickup_neutro': 5.857176643952726,\n",
       " 'tap_fase': 126.51501550937886,\n",
       " 'tap_neutro': 25.303003101875774}"
      ]
     },
     "execution_count": 7,
     "metadata": {},
     "output_type": "execute_result"
    }
   ],
   "source": [
    "def ajustar_rele(ajustes_cliente, ajustes_concessionaria):\n",
    "    ajustes_ajustados = {}\n",
    "    \n",
    "    for chave in ajustes_cliente:\n",
    "        if ajustes_cliente[chave] < ajustes_concessionaria[chave]:\n",
    "            ajustes_ajustados[chave] = ajustes_cliente[chave]\n",
    "        else:\n",
    "            # Ajusta para um valor que seja menor, por exemplo, 10% a menos\n",
    "            ajustes_ajustados[chave] = ajustes_concessionaria[chave] * 0.9\n",
    "\n",
    "    return ajustes_ajustados\n",
    "\n",
    "# Calcular ajustes\n",
    "ajustes_final = ajustar_rele(ajustes_rele_cliente, ajustes_concessionaria)\n",
    "\n",
    "# Exibir ajustes\n",
    "print(\"Ajustes do Relé da Concessionária:\")\n",
    "for chave, valor in ajustes_concessionaria.items():\n",
    "    print(f\"{chave}: {valor:.2f} A\")\n",
    "\n",
    "# Exibir ajustes\n",
    "print(\"Ajustes do Relé do Cliente (ajustados para serem menores que os da concessionária):\")\n",
    "for chave, valor in ajustes_final.items():\n",
    "    print(f\"{chave}: {valor:.2f} A\")\n",
    "\n",
    "ajustar_rele(ajustes_rele_cliente, ajustes_concessionaria)"
   ]
  },
  {
   "cell_type": "code",
   "execution_count": 8,
   "id": "26351002-93f3-4e4f-9510-9e92ad2978e5",
   "metadata": {
    "editable": true,
    "slideshow": {
     "slide_type": ""
    },
    "tags": []
   },
   "outputs": [],
   "source": [
    "# Dados fornecidos (correntes em A e tempos em s)\n",
    "correntes = [\n",
    "    corrente_curto_trifasica,\n",
    "    corrente_curto_trifasica_assimetrica,\n",
    "    corrente_falta_fase_terra,\n",
    "    corrente_falta_fase_terra_assimetrica,\n",
    "    corrente_falta_terra_minima,\n",
    "    corrente_tc,\n",
    "    pickup_fase,\n",
    "    pickup_neutro\n",
    "]"
   ]
  },
  {
   "cell_type": "code",
   "execution_count": 9,
   "id": "6c55a221-c23f-4d42-ba93-842075e986db",
   "metadata": {
    "editable": true,
    "slideshow": {
     "slide_type": ""
    },
    "tags": []
   },
   "outputs": [],
   "source": [
    "run Tratamento_Plotagem.py"
   ]
  },
  {
   "cell_type": "code",
   "execution_count": 10,
   "id": "ecdc73c1-4074-42ea-a0e9-2088d80a3421",
   "metadata": {
    "editable": true,
    "slideshow": {
     "slide_type": ""
    },
    "tags": []
   },
   "outputs": [
    {
     "data": {
      "image/png": "[encoded data removed]",
      "text/plain": [
       "<Figure size 1000x600 with 1 Axes>"
      ]
     },
     "metadata": {},
     "output_type": "display_data"
    }
   ],
   "source": [
    "# Função para plotar gráfico de corrente vs. tempo de atuação\n",
    "def plotar_graficos_corrente_tempo():\n",
    "    plt.figure(figsize=(10, 6))\n",
    "    \n",
    "    # Gráfico\n",
    "    plt.scatter(correntes, tempos_atuacao, color='blue')\n",
    "    plt.plot(I_values_1, tempos_atuacao_1, marker='', linestyle='-', color='red')\n",
    "    plt.plot(I_values_2, tempos_atuacao_2, marker='', linestyle='-', color='black')\n",
    "    \n",
    "    \n",
    "    \n",
    "    # Adicionando anotações para os pontos\n",
    "    labels = ['CCT', 'CCT Assim.', 'Falta Fase-Terra', 'Falta Fase-Terra Assim.', 'Falta Terra Mínima', 'Corrente do TC', 'Pickup Fase', 'Pickup Neutro']\n",
    "    for i, txt in enumerate(labels):\n",
    "        plt.annotate(txt, (correntes[i], tempos_atuacao[i]), textcoords=\"offset points\", xytext=(0,10), ha='center')\n",
    "\n",
    "    \n",
    "# Chama a função para plotar o gráfico\n",
    "#plotar_graficos_corrente_tempo()\n",
    "\n",
    "    # Gráfico\n",
    "    \n",
    "    # Configurações do gráfico\n",
    "    plt.xscale('log')  # Eixo X \n",
    "    plt.yscale('log')  # Eixo Y \n",
    "    plt.xlabel('Corrente (A)')\n",
    "    plt.ylabel('Tempo de Atuação (s)')\n",
    "    plt.title('Tempo de Atuação em Função da Corrente - Curva Inversa Típica')\n",
    "    \n",
    "    plt.grid(True)\n",
    "    plt.tight_layout()\n",
    "    plt.show()\n",
    "\n",
    "# Chama a função para plotar o gráfico\n",
    "plotar_graficos_corrente_tempo()\n",
    "\n"
   ]
  },
  {
   "cell_type": "code",
   "execution_count": null,
   "id": "81e12e1a-0629-46e7-a89a-bc5d7586042e",
   "metadata": {
    "editable": true,
    "slideshow": {
     "slide_type": ""
    },
    "tags": []
   },
   "outputs": [],
   "source": []
  }
 ],
 "metadata": {
  "kernelspec": {
   "display_name": "Python 3",
   "language": "python",
   "name": "python3"
  },
  "language_info": {
   "codemirror_mode": {
    "name": "ipython",
    "version": 3
   },
   "file_extension": ".py",
   "mimetype": "text/x-python",
   "name": "python",
   "nbconvert_exporter": "python",
   "pygments_lexer": "ipython3",
   "version": "3.12.7"
  }
 },
 "nbformat": 4,
 "nbformat_minor": 5
}
