{
 "cells": [
  {
   "cell_type": "markdown",
   "id": "50045306-f6b6-4fa1-a5d6-97467fa77a22",
   "metadata": {
    "editable": true,
    "slideshow": {
     "slide_type": ""
    },
    "tags": []
   },
   "source": [
    "## Estudo de Proteção de Subestação de Medição e Proteção - Parte 1"
   ]
  },
  {
   "cell_type": "markdown",
   "id": "32a44f50-232f-4d3f-ab53-d93e2747c832",
   "metadata": {
    "editable": true,
    "slideshow": {
     "slide_type": ""
    },
    "tags": []
   },
   "source": [
    "### Importando Biblioteca (cmath, matplotlib.pyplot e numpy)"
   ]
  },
  {
   "cell_type": "code",
   "execution_count": 1,
   "id": "95d1ca2a-6874-4ace-b2cc-9a5be19b34dc",
   "metadata": {
    "editable": true,
    "slideshow": {
     "slide_type": ""
    },
    "tags": []
   },
   "outputs": [],
   "source": [
    "run Library.py"
   ]
  },
  {
   "cell_type": "markdown",
   "id": "83f6fd62-1de7-4312-974b-e7371d9f811b",
   "metadata": {
    "editable": true,
    "slideshow": {
     "slide_type": ""
    },
    "tags": []
   },
   "source": [
    "### Dados de Entrada fornecidos pela Concessionária\n",
    "1. Curto circuito\n",
    "2. Impedância da rede\n",
    "3. Ajustes do religador"
   ]
  },
  {
   "cell_type": "code",
   "execution_count": 2,
   "id": "dffeb61c-5f9d-4864-b187-5daea318bbd2",
   "metadata": {
    "editable": true,
    "slideshow": {
     "slide_type": ""
    },
    "tags": []
   },
   "outputs": [],
   "source": [
    "run Dados_Entrada_Concessionária.py"
   ]
  },
  {
   "cell_type": "code",
   "execution_count": 3,
   "id": "28195d4b-3aa2-4d9a-99ac-44c6406b7232",
   "metadata": {},
   "outputs": [
    {
     "name": "stdout",
     "output_type": "stream",
     "text": [
      "O nível de Curto circuito é:  {'Icc3f': 1.619, 'Icc3fassim': 1.684, 'Icc2f': 1.402, 'Iccftmax': 1.169, 'Iccftmin': 183}\n",
      "O valor da Impedância da rede é:  {'Z1': (1.4507+2.1381j), 'Z0': (1.807+5.3744j)}\n",
      "O Ajuste do Religador é:  {'tipo': '351-R', 'rtc': 500, 'fase': {'pickup': 230, 'tap_inst': 895, 'curva': 'DEF_05'}, 'neutro': {'pickup': 25, 'tap_inst': 550}, 'religamentos': [5, 20, 40]}\n"
     ]
    }
   ],
   "source": [
    "print(\"O nível de Curto circuito é: \", niveis_curto_circuito)\n",
    "print(\"O valor da Impedância da rede é: \", impedancias)\n",
    "print(\"O Ajuste do Religador é: \", rele)"
   ]
  },
  {
   "cell_type": "markdown",
   "id": "a47b8801-2ff3-45c1-ba75-13b3f072cd55",
   "metadata": {},
   "source": [
    "### Cálculos de Potência, Tensão e Corrente de base"
   ]
  },
  {
   "cell_type": "code",
   "execution_count": 4,
   "id": "8cd508d2-24b4-407b-a6d8-4643f10fadc0",
   "metadata": {
    "editable": true,
    "slideshow": {
     "slide_type": ""
    },
    "tags": []
   },
   "outputs": [
    {
     "name": "stdout",
     "output_type": "stream",
     "text": [
      "O valor da Potência de base é:  100000000.0\n",
      "O valor do Módulo da Impedância de base é:  1.9044\n",
      "O valor da Corrente de base é:  (4183.697602823375+0j)\n"
     ]
    }
   ],
   "source": [
    "tensao_base = 13.80 * 1e3  # em volts\n",
    "vb = tensao_base\n",
    "potencia_base = 100e6  # em watts (100 MVA)\n",
    "sb = potencia_base\n",
    "zb = vb**2 / sb  # impedância de base\n",
    "ib = sb / (vb * cmath.sqrt(3))  # corrente de base\n",
    "\n",
    "print(\"O valor da Potência de base é: \", sb)\n",
    "print(\"O valor do Módulo da Impedância de base é: \", zb)\n",
    "print(\"O valor da Corrente de base é: \", ib)"
   ]
  },
  {
   "cell_type": "markdown",
   "id": "7518924c-732b-469b-8e67-f52fc84a12f6",
   "metadata": {},
   "source": [
    "### Cálculos de Impedância da Rede"
   ]
  },
  {
   "cell_type": "code",
   "execution_count": 5,
   "id": "9ba23255-a8a2-45b1-90c1-f26d9d593652",
   "metadata": {
    "editable": true,
    "slideshow": {
     "slide_type": ""
    },
    "tags": []
   },
   "outputs": [
    {
     "name": "stdout",
     "output_type": "stream",
     "text": [
      "O valor da Impedância Positiva da rede é em pu:  (1.4507+2.1381j)\n",
      "O valor da Impedância Zero da rede é em pu:  (1.807+5.3744j)\n",
      "O valor da Resistência de falta é em ohm:  40\n"
     ]
    }
   ],
   "source": [
    "z1r = impedancias[\"Z1\"]  # impedância da rede\n",
    "z0r = impedancias[\"Z0\"]  # impedância da malha de terra\n",
    "rf = 40  # resistência de falta\n",
    "\n",
    "print(\"O valor da Impedância Positiva da rede é em pu: \", z1r)\n",
    "print(\"O valor da Impedância Zero da rede é em pu: \", z0r)\n",
    "print(\"O valor da Resistência de falta é em ohm: \", rf)"
   ]
  },
  {
   "cell_type": "markdown",
   "id": "e542d796-b532-4030-ae24-a6d40cf4d8b2",
   "metadata": {
    "editable": true,
    "slideshow": {
     "slide_type": ""
    },
    "tags": []
   },
   "source": [
    "### Dados da Subestação do Cliente"
   ]
  },
  {
   "cell_type": "code",
   "execution_count": 6,
   "id": "d3a45138-a945-4c8f-8568-f6b674175221",
   "metadata": {
    "editable": true,
    "slideshow": {
     "slide_type": ""
    },
    "tags": []
   },
   "outputs": [],
   "source": [
    "run Subestação_Cliente.py"
   ]
  },
  {
   "cell_type": "code",
   "execution_count": 7,
   "id": "a463402f-0697-4336-9c4c-ff37d58bdfe5",
   "metadata": {
    "editable": true,
    "slideshow": {
     "slide_type": ""
    },
    "tags": []
   },
   "outputs": [
    {
     "name": "stdout",
     "output_type": "stream",
     "text": [
      "Transfomador 1 tem Potência de  360.0 kVA e Impedância Perccentual de  0.055 e fator k de  10\n",
      "Transfomador 2 tem Potência de  225.0 kVA e Impedância Perccentual de  0.045 e fator k de  8\n"
     ]
    }
   ],
   "source": [
    "print(\"Transfomador 1 tem Potência de \",tf1/1000, \"kVA e Impedância Perccentual de \",ztf1, \"e fator k de \",kinrush1)\n",
    "print(\"Transfomador 2 tem Potência de \",tf2/1000, \"kVA e Impedância Perccentual de \",ztf2, \"e fator k de \",kinrush2)"
   ]
  },
  {
   "cell_type": "markdown",
   "id": "48d55106-b0ec-4b0c-85ce-42a19d62b0cc",
   "metadata": {
    "editable": true,
    "slideshow": {
     "slide_type": ""
    },
    "tags": []
   },
   "source": [
    "### Cálculos da Impedância do cabo"
   ]
  },
  {
   "cell_type": "code",
   "execution_count": 8,
   "id": "f52103b6-acfe-4662-a976-ddbc3db68d41",
   "metadata": {},
   "outputs": [
    {
     "name": "stdout",
     "output_type": "stream",
     "text": [
      "Impedância positiva do cabo em pu (1.675+0.3675j)\n"
     ]
    }
   ],
   "source": [
    "z_un_cb = complex(r_un_cb,x_un_cb)  # (ohm/km) procurar valor na tabela do fabricante\n",
    "z1cbpu = z_un_cb * lcb / 1000  # impedância cabo em pu\n",
    "print(\"Impedância positiva do cabo em pu\", z1cbpu)"
   ]
  },
  {
   "cell_type": "markdown",
   "id": "d1b59f29-cc5d-45d2-81c4-581592c6557e",
   "metadata": {
    "editable": true,
    "slideshow": {
     "slide_type": ""
    },
    "tags": []
   },
   "source": [
    "### Cálculo das correntes dos Transformadores da Subestação de Energia"
   ]
  },
  {
   "cell_type": "code",
   "execution_count": 9,
   "id": "60685e7a-fc89-4a6c-b5bf-3885edef94e2",
   "metadata": {},
   "outputs": [
    {
     "name": "stdout",
     "output_type": "stream",
     "text": [
      "A Corrente Nominal no primário do Trafo 1 é:  (15.06131137016415+0j)  A\n",
      "A Corrente Nominal no primário do Trafo 2 é:  (9.413319606352594+0j)  A\n"
     ]
    }
   ],
   "source": [
    "potencia_instalada = 2e6  # em watts (2 MVA)\n",
    "intf1 = tf1 / (vb * cmath.sqrt(3))  # corrente no trafo 1\n",
    "intf2 = tf2 / (vb * cmath.sqrt(3))  # corrente no trafo 2\n",
    "\n",
    "print(\"A Corrente Nominal no primário do Trafo 1 é: \",intf1,\" A\")\n",
    "print(\"A Corrente Nominal no primário do Trafo 2 é: \",intf2,\" A\")"
   ]
  },
  {
   "cell_type": "markdown",
   "id": "873a3ce5-bf51-4e39-8eb4-ea67877b488d",
   "metadata": {},
   "source": [
    "### Cálculo das Correntes de curto na barra de media tensão"
   ]
  },
  {
   "cell_type": "code",
   "execution_count": 10,
   "id": "3517d1cf-e453-47a3-b2c1-b519b5448983",
   "metadata": {
    "editable": true,
    "slideshow": {
     "slide_type": ""
    },
    "tags": []
   },
   "outputs": [
    {
     "name": "stdout",
     "output_type": "stream",
     "text": [
      "Curto trifásico na barra de média tensão é:  1044.3579989447574 A\n",
      "Curto trifásico assimétrico na barra de média tensão é:  1044.7697967110562 A\n",
      "Curto fase terra na barra de média tensão é:  954.7981293640297 A\n",
      "Curto fase terra assimétrico na barra de média tensão é:  955.1746130385318 A\n",
      "Corrente de falta terra mínimo na barra de média tensão é:  174.74498985584682 A\n"
     ]
    }
   ],
   "source": [
    "Z1 = z1r + z1cbpu  # impedância de sequência positiva total\n",
    "I3ph = ib * 1 / abs(Z1)  # curto trifásico\n",
    "Fa = cmath.sqrt(1 + 2 * cmath.exp(-2 * cmath.pi * Z1.real / Z1.imag))  # fator de assimetria\n",
    "I3pha = I3ph * Fa  # corrente de curto assimétrica\n",
    "I1t = abs(ib * 3 / (2 * Z1 + z0r))  # corrente de curto fase terra\n",
    "I1ta = I1t * Fa  # corrente de curto fase terra assimétrica\n",
    "Zf = 3 * rf / zb  # impedância de falta terra\n",
    "I1tmin = ib * 3 / abs(2 * Z1 + z0r + Zf)  # corrente de falta terra mínima\n",
    "\n",
    "print(\"Curto trifásico na barra de média tensão é: \",abs(I3ph), \"A\")\n",
    "print(\"Curto trifásico assimétrico na barra de média tensão é: \",abs(I3pha), \"A\")\n",
    "print(\"Curto fase terra na barra de média tensão é: \",abs(I1t), \"A\")\n",
    "print(\"Curto fase terra assimétrico na barra de média tensão é: \",abs(I1ta), \"A\")\n",
    "print(\"Corrente de falta terra mínimo na barra de média tensão é: \",abs(I1tmin), \"A\")"
   ]
  },
  {
   "cell_type": "markdown",
   "id": "ccdf9c5d-8e24-433b-a173-1807a58672e6",
   "metadata": {
    "editable": true,
    "slideshow": {
     "slide_type": ""
    },
    "tags": []
   },
   "source": [
    "### Cálculo da Correntes de curto na barra de baixa tensão do Trafo 1"
   ]
  },
  {
   "cell_type": "code",
   "execution_count": 11,
   "id": "dea782a2-1af6-4dc2-8133-a2d6b3274c34",
   "metadata": {
    "editable": true,
    "slideshow": {
     "slide_type": ""
    },
    "tags": []
   },
   "outputs": [
    {
     "name": "stdout",
     "output_type": "stream",
     "text": [
      "Curto trifásico na barra de baixa tensão do Trafo 1 é:  228.51423675409075 A\n",
      "Curto trifásico assimétrico na barra de baixa tensão do Trafo 1 é:  268.7953084130615 A\n",
      "Curto fase terra na barra de baixa tensão do Trafo 1 é::  253.6342712015924 A\n",
      "Curto fase terra assimétrico na barra de baixa tensão do Trafo 1 é:  1123.1040188134984 A\n",
      "Corrente de falta terra mínimo na barra de baixa tensão do Trafo 1 é:  142.51724301474135 A\n"
     ]
    }
   ],
   "source": [
    "abs_Z1tf1_bt = ztf1 * vb**2 / (tf1 * zb)  # modulo impedância de sequência positiva em bt do trafo 1\n",
    "Z1tf1_bt = abs_Z1tf1_bt * (0.1 + 0.995j)  # impedância de sequência positiva em bt do trafo 1 em pu\n",
    "Z0tf1_bt_tf1 = 0.85 * Z1tf1_bt  # impedância de sequência zero em bt do trafo 1 em pu\n",
    "Z1total_bt_tf1 = z1r + z1cbpu + Z1tf1_bt  # impedância de sequência positiva total em bt do trafo 1\n",
    "Z0total_bt_tf1 = Z0tf1_bt_tf1  # impedância de sequência zero total em bt do trafo 1\n",
    "I3ph_bt_tf1 = ib * 1 / abs(Z1total_bt_tf1)  # curto trifásico\n",
    "Fa_bt_tf1 = cmath.sqrt(1 + 2 * cmath.exp(-2 * cmath.pi * Z1total_bt_tf1.real / Z1total_bt_tf1.imag))  # fator de assimetria\n",
    "I3pha_bt_tf1 = I3ph_bt_tf1 * Fa_bt_tf1  # corrente de curto assimétrica\n",
    "I1t_bt_tf1 = abs(ib * 3 / (2 * Z1total_bt_tf1 + Z0total_bt_tf1))  # corrente de curto fase terra\n",
    "I1ta_bt_tf1 = I1t * Fa_bt_tf1  # corrente de curto fase terra assimétrica\n",
    "I1tmin_bt_tf1 = ib * 3 / abs(2 * Z1total_bt_tf1 + Z0total_bt_tf1 + Zf)  # impedância de falta terra mínima\n",
    "\n",
    "print(\"Curto trifásico na barra de baixa tensão do Trafo 1 é: \",abs(I3ph_bt_tf1), \"A\")\n",
    "print(\"Curto trifásico assimétrico na barra de baixa tensão do Trafo 1 é: \",abs(I3pha_bt_tf1), \"A\")\n",
    "print(\"Curto fase terra na barra de baixa tensão do Trafo 1 é:: \",abs(I1t_bt_tf1), \"A\")\n",
    "print(\"Curto fase terra assimétrico na barra de baixa tensão do Trafo 1 é: \",abs(I1ta_bt_tf1), \"A\")\n",
    "print(\"Corrente de falta terra mínimo na barra de baixa tensão do Trafo 1 é: \",abs(I1tmin_bt_tf1), \"A\")"
   ]
  },
  {
   "cell_type": "markdown",
   "id": "76b4e8da-1c89-482f-a94b-2a1d7fda0bec",
   "metadata": {
    "editable": true,
    "slideshow": {
     "slide_type": ""
    },
    "tags": []
   },
   "source": [
    "### Cálculo da Correntes de curto na barra de baixa tensão do Trafo 2"
   ]
  },
  {
   "cell_type": "code",
   "execution_count": 12,
   "id": "c1beaa15-a548-4cf3-b80c-5ca338106bb9",
   "metadata": {
    "editable": true,
    "slideshow": {
     "slide_type": ""
    },
    "tags": []
   },
   "outputs": [
    {
     "name": "stdout",
     "output_type": "stream",
     "text": [
      "Curto trifásico na barra de baixa tensão do Trafo 2 é:  182.02317101659045 A\n",
      "Curto trifásico assimétrico na barra de baixa tensão do Trafo 2 é:  221.0731907544342 A\n",
      "Curto fase terra na barra de baixa tensão do Trafo 2 é::  199.6274898953788 A\n",
      "Curto fase terra assimétrico na barra de baixa tensão do Trafo 2 é:  1159.6340609055328 A\n",
      "Corrente de falta terra mínimo na barra de baixa tensão do Trafo 2 é:  129.2510836663407 A\n"
     ]
    }
   ],
   "source": [
    "abs_Z1tf2_bt = ztf2 * vb**2 / (tf2 * zb)  # modulo impedância de sequência positiva em bt do trafo 2\n",
    "Z1tf2_bt = abs_Z1tf2_bt * (0.1 + 0.995j)  # impedância de sequência positiva em bt do trafo 2 em pu\n",
    "Z0tf2_bt = 0.85 * Z1tf2_bt  # impedância de sequência zero em bt do trafo 2 em pu\n",
    "Z1total_bt_tf2 = z1r + z1cbpu + Z1tf2_bt  # impedância de sequência positiva total em bt do trafo 2\n",
    "Z0total_bt_tf2 = Z0tf2_bt  # impedância de sequência zero total em bt do trafo 2\n",
    "I3ph_bt_tf2 = ib * 1 / abs(Z1total_bt_tf2)  # curto trifásico\n",
    "Fa_bt_tf2 = cmath.sqrt(1 + 2 * cmath.exp(-2 * cmath.pi * Z1total_bt_tf2.real / Z1total_bt_tf2.imag))  # fator de assimetria\n",
    "I3pha_bt_tf2 = I3ph_bt_tf2 * Fa_bt_tf2  # corrente de curto assimétrica\n",
    "I1t_bt_tf2 = abs(ib * 3 / (2 * Z1total_bt_tf2 + Z0total_bt_tf2))  # corrente de curto fase terra\n",
    "I1ta_bt_tf2 = I1t * Fa_bt_tf2  # corrente de curto fase terra assimétrica\n",
    "I1tmin_bt_tf2 = ib * 3 / abs(2 * Z1total_bt_tf2 + Z0total_bt_tf2 + Zf)  # impedância de falta terra mínima\n",
    "\n",
    "print(\"Curto trifásico na barra de baixa tensão do Trafo 2 é: \",abs(I3ph_bt_tf2), \"A\")\n",
    "print(\"Curto trifásico assimétrico na barra de baixa tensão do Trafo 2 é: \",abs(I3pha_bt_tf2), \"A\")\n",
    "print(\"Curto fase terra na barra de baixa tensão do Trafo 2 é:: \",abs(I1t_bt_tf2), \"A\")\n",
    "print(\"Curto fase terra assimétrico na barra de baixa tensão do Trafo 2 é: \",abs(I1ta_bt_tf2), \"A\")\n",
    "print(\"Corrente de falta terra mínimo na barra de baixa tensão do Trafo 2 é: \",abs(I1tmin_bt_tf2), \"A\")"
   ]
  },
  {
   "cell_type": "markdown",
   "id": "a7685804-c362-4058-b9cf-2dae2872d6be",
   "metadata": {},
   "source": [
    "### Dimensionamento do TC"
   ]
  },
  {
   "cell_type": "code",
   "execution_count": 13,
   "id": "b814466a-df09-456c-9f22-333d59653591",
   "metadata": {
    "editable": true,
    "slideshow": {
     "slide_type": ""
    },
    "tags": []
   },
   "outputs": [
    {
     "name": "stdout",
     "output_type": "stream",
     "text": [
      "Corrente de primeiro critério de curto no TC é:  52.21789994723787 A\n",
      "Corrente de segundo critério de curto no TC é:  127.32992704245056 A\n",
      "Corrente de teceiro critério de curto no TC é:  48.94926195303349 A\n",
      "TC escolhiddo é de  150 /5  A\n"
     ]
    }
   ],
   "source": [
    "Dm = 1400e3  # demanda contratada em W\n",
    "In = Dm / (vb * 0.92 * cmath.sqrt(3))  # corrente nominal demanda contratada\n",
    "It = ((tf1 + tf2) / (cmath.sqrt(3) * vb))  # corrente nominal dos transformadores\n",
    "Intc_int1 = I3ph / 20  # Corrente de primeiro critério de curto no TC\n",
    "Intc_int2 = 2 * In  # Corrente de segundo critério de curto no TC\n",
    "Intc_int3 = 2 * It  # Corrente de terceiro critério de curto no TC\n",
    "\n",
    "print(\"Corrente de primeiro critério de curto no TC é: \",abs(Intc_int1), \"A\")\n",
    "print(\"Corrente de segundo critério de curto no TC é: \",abs(Intc_int2), \"A\")\n",
    "print(\"Corrente de teceiro critério de curto no TC é: \",abs(Intc_int3), \"A\")\n",
    "\n",
    "if abs(Intc_int1) > 100 or abs(Intc_int2) > 100 or abs(Intc_int3) > 100:\n",
    "    Intc = 150\n",
    "else:\n",
    "    Intc = 100\n",
    "\n",
    "print(\"TC escolhiddo é de \",Intc,\"/5  A\")"
   ]
  },
  {
   "cell_type": "markdown",
   "id": "6d8a0308-e593-4698-aea2-9912e0c9c7a0",
   "metadata": {
    "editable": true,
    "slideshow": {
     "slide_type": ""
    },
    "tags": []
   },
   "source": [
    "### Primeiro Ajuste de Proteção do Relé"
   ]
  },
  {
   "cell_type": "code",
   "execution_count": 14,
   "id": "d90fce42-7bfa-4846-b8d5-f4031a007d68",
   "metadata": {
    "editable": true,
    "slideshow": {
     "slide_type": ""
    },
    "tags": []
   },
   "outputs": [
    {
     "name": "stdout",
     "output_type": "stream",
     "text": [
      "Corrente pickup de fase é:  58.57176643952725 A\n",
      "Corrente instatânea de fase é:  126.51501550937886 A\n",
      "Corrente pickup de neutro é:  5.857176643952726 A\n",
      "Corrente instatânea de neutro é:  25.303003101875774 A\n"
     ]
    }
   ],
   "source": [
    "# --------- corrente de magnetização dos transformadores ----------- #\n",
    "Imag = intf2 * kinrush2 + intf1  # corrente magnetização dos transformadores\n",
    "\n",
    "# --------- ponto ANSI dos transformadores ----------- #\n",
    "IANSI_tf1 = intf1 / ztf1  # corrente magnetização dos transformador 1\n",
    "TANSI_tf1 = ztf1**2 / 8  # tempo de disparo ANSI transformador 1\n",
    "IANSI_tf2 = intf2 / ztf2  # corrente magnetização dos transformador 2\n",
    "TANSI_tf2 = ztf2**2 / 8  # tempo de disparo ANSI transformador 2\n",
    "\n",
    "# --------- ajustes de curvas de proteção ----------- #\n",
    "Ipf_inst = Dm / (vb * cmath.sqrt(3))  # corrente de partida da fase demanda\n",
    "Iif = 1.4 * Imag  # corrente instatânea\n",
    "Ipn = 0.1 * Ipf_inst  # corrente de partida de neutro\n",
    "Iin = 0.2 * Iif  # corrente instatânea de fase\n",
    "\n",
    "print(\"Corrente pickup de fase é: \",abs(Ipf_inst),\"A\")\n",
    "print(\"Corrente instatânea de fase é: \",abs(Iif),\"A\")\n",
    "print(\"Corrente pickup de neutro é: \",abs(Ipn),\"A\")\n",
    "print(\"Corrente instatânea de neutro é: \",abs(Iin),\"A\")"
   ]
  },
  {
   "cell_type": "code",
   "execution_count": null,
   "id": "04858d5e-f8e8-4fa6-b18f-c33f70748586",
   "metadata": {
    "editable": true,
    "slideshow": {
     "slide_type": ""
    },
    "tags": []
   },
   "outputs": [],
   "source": []
  }
 ],
 "metadata": {
  "kernelspec": {
   "display_name": "Python 3",
   "language": "python",
   "name": "python3"
  },
  "language_info": {
   "codemirror_mode": {
    "name": "ipython",
    "version": 3
   },
   "file_extension": ".py",
   "mimetype": "text/x-python",
   "name": "python",
   "nbconvert_exporter": "python",
   "pygments_lexer": "ipython3",
   "version": "3.12.7"
  }
 },
 "nbformat": 4,
 "nbformat_minor": 5
}
